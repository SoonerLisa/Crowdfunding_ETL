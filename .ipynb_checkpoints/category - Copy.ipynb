{
 "cells": [
  {
   "cell_type": "code",
   "execution_count": 18,
   "id": "fe349635-1448-4777-9f64-3be96a3f23cb",
   "metadata": {},
   "outputs": [
    {
     "name": "stdout",
     "output_type": "stream",
     "text": [
      "  category_id    category\n",
      "0        cat1        food\n",
      "1        cat2       music\n",
      "2        cat3  technology\n",
      "3        cat2       music\n",
      "4        cat4     theater\n"
     ]
    }
   ],
   "source": [
    "#project 2 df category.ipynb\n",
    "\n",
    "import pandas as pd\n",
    "\n",
    "# Specify the columns you want to extract and the desired order\n",
    "selected_columns = ['category_id', 'category']\n",
    "\n",
    "# Read the selected columns from the CSV file into a new DataFrame\n",
    "category = pd.read_csv(r'C:\\Users\\soone\\Crowdfunding_ETL\\crowdfunding_data.csv', usecols=selected_columns)\n",
    "category = category[['category_id', 'category']]\n",
    "\n",
    "# Display the first few rows of the new DataFrame\n",
    "print(category.head())\n"
   ]
  },
  {
   "cell_type": "code",
   "execution_count": null,
   "id": "d2c02f43-3bfe-48b9-9be3-a7a3de160526",
   "metadata": {},
   "outputs": [],
   "source": []
  }
 ],
 "metadata": {
  "kernelspec": {
   "display_name": "Python 3 (ipykernel)",
   "language": "python",
   "name": "python3"
  },
  "language_info": {
   "codemirror_mode": {
    "name": "ipython",
    "version": 3
   },
   "file_extension": ".py",
   "mimetype": "text/x-python",
   "name": "python",
   "nbconvert_exporter": "python",
   "pygments_lexer": "ipython3",
   "version": "3.10.14"
  }
 },
 "nbformat": 4,
 "nbformat_minor": 5
}
